{
 "cells": [
  {
   "cell_type": "code",
   "execution_count": 1,
   "metadata": {},
   "outputs": [],
   "source": [
    "import requests\n",
    "import pymongo\n",
    "import pandas as pd\n",
    "import numpy as np\n",
    "from bs4 import BeautifulSoup\n",
    "from splinter import Browser\n",
    "from selenium import webdriver\n",
    "from selenium.webdriver.support.wait import WebDriverWait"
   ]
  },
  {
   "cell_type": "code",
   "execution_count": 2,
   "metadata": {},
   "outputs": [],
   "source": [
    "conn = 'mongodb://localhost:27017'\n",
    "client = pymongo.MongoClient(conn)"
   ]
  },
  {
   "cell_type": "code",
   "execution_count": 3,
   "metadata": {},
   "outputs": [],
   "source": [
    "executable_path = {'executable_path': '/usr/local/bin/chromedriver'}\n",
    "browser = Browser('chrome', **executable_path, headless=False)"
   ]
  },
  {
   "cell_type": "code",
   "execution_count": 4,
   "metadata": {},
   "outputs": [
    {
     "name": "stdout",
     "output_type": "stream",
     "text": [
      "NASA's Curiosity Keeps Rolling As Team Operates Rover From Home\n",
      "The team has learned to meet new challenges as they work remotely on the Mars mission.\n"
     ]
    }
   ],
   "source": [
    "# URL of page to be scraped\n",
    "news_url = \"https://mars.nasa.gov/news/\"\n",
    "browser.visit(news_url)\n",
    "html = browser.html\n",
    "\n",
    "# Parse HTML with Beautiful Soup\n",
    "soup = BeautifulSoup(html, \"html.parser\")\n",
    "\n",
    "results = soup.body.find('div', class_='list_text')\n",
    "news_title = results.find(\"div\", class_=\"content_title\").text\n",
    "news_text = results.find(\"div\", class_ =\"article_teaser_body\").text\n",
    "print(news_title)\n",
    "print(news_text)"
   ]
  },
  {
   "cell_type": "code",
   "execution_count": null,
   "metadata": {},
   "outputs": [],
   "source": []
  },
  {
   "cell_type": "code",
   "execution_count": 5,
   "metadata": {},
   "outputs": [],
   "source": [
    "#Image\n",
    "url = 'https://www.jpl.nasa.gov/spaceimages/?search=&category=Mars'\n",
    "browser.visit(url)\n",
    "html = browser.html\n",
    "\n",
    "soup = BeautifulSoup(html, 'html.parser')\n",
    "image_search = soup.find('article', class_='carousel_item')\n",
    "featured_image_url = 'https://www.jpl.nasa.gov' + image_search['style'].split(\"'\")[1]"
   ]
  },
  {
   "cell_type": "code",
   "execution_count": 6,
   "metadata": {},
   "outputs": [],
   "source": [
    "#Twitter was a real problem to figure out\n",
    "#Still not sure why using requests and splinter return different classes and whatnot\n",
    "url = \"https://twitter.com/marswxreport?lang=en\"\n",
    "request = requests.get(url)\n",
    "\n",
    "soup = BeautifulSoup(request.text, 'html.parser')\n",
    "mars_weather = soup.find('div', class_=\"js-tweet-text-container\").text"
   ]
  },
  {
   "cell_type": "code",
   "execution_count": 7,
   "metadata": {},
   "outputs": [],
   "source": [
    "#Pandas\n",
    "url = 'https://space-facts.com/mars/'\n",
    "tables = pd.read_html(url)\n",
    "html_table = tables[0].to_html()"
   ]
  },
  {
   "cell_type": "code",
   "execution_count": 12,
   "metadata": {},
   "outputs": [],
   "source": [
    "#Hemispheres\n",
    "url = 'https://astrogeology.usgs.gov/search/results?q=hemisphere+enhanced&k1=target&v1=Mars'\n",
    "browser.visit(url)\n",
    "driver = webdriver.Chrome()\n",
    "\n",
    "soup = BeautifulSoup(browser.html, 'html.parser')\n",
    "hemispheres = soup.find_all('div', class_='item')\n",
    "\n",
    "hemispheres_image_urls = []\n",
    "i = 0\n",
    "\n",
    "for item in hemispheres:\n",
    "    driver.get(url)\n",
    "    link = driver.find_elements_by_xpath(\"//h3\")[i]\n",
    "    title = link.text\n",
    "    link.click()\n",
    "\n",
    "    # wait to make sure the new window is loaded\n",
    "    WebDriverWait(driver, 10).until(lambda d: d.title != \"\")\n",
    "\n",
    "    img = driver.find_elements_by_xpath(\"//li/a\")[0]\n",
    "    img_url = img.get_attribute('href')\n",
    "    \n",
    "    hemispheres_image_urls.append({\"title\": f'\"{title}\"', 'image_url':f'\"{img_url}\"'})\n",
    "    i += 1"
   ]
  },
  {
   "cell_type": "code",
   "execution_count": 14,
   "metadata": {},
   "outputs": [
    {
     "data": {
      "text/plain": [
       "[{'title': '\"Cerberus Hemisphere Enhanced\"',\n",
       "  'image_url': '\"http://astropedia.astrogeology.usgs.gov/download/Mars/Viking/cerberus_enhanced.tif/full.jpg\"'},\n",
       " {'title': '\"Schiaparelli Hemisphere Enhanced\"',\n",
       "  'image_url': '\"http://astropedia.astrogeology.usgs.gov/download/Mars/Viking/schiaparelli_enhanced.tif/full.jpg\"'},\n",
       " {'title': '\"Syrtis Major Hemisphere Enhanced\"',\n",
       "  'image_url': '\"http://astropedia.astrogeology.usgs.gov/download/Mars/Viking/syrtis_major_enhanced.tif/full.jpg\"'},\n",
       " {'title': '\"Valles Marineris Hemisphere Enhanced\"',\n",
       "  'image_url': '\"http://astropedia.astrogeology.usgs.gov/download/Mars/Viking/valles_marineris_enhanced.tif/full.jpg\"'}]"
      ]
     },
     "execution_count": 14,
     "metadata": {},
     "output_type": "execute_result"
    }
   ],
   "source": [
    "hemispheres_image_urls"
   ]
  },
  {
   "cell_type": "code",
   "execution_count": null,
   "metadata": {},
   "outputs": [],
   "source": []
  }
 ],
 "metadata": {
  "kernelspec": {
   "display_name": "Python 3",
   "language": "python",
   "name": "python3"
  },
  "language_info": {
   "codemirror_mode": {
    "name": "ipython",
    "version": 3
   },
   "file_extension": ".py",
   "mimetype": "text/x-python",
   "name": "python",
   "nbconvert_exporter": "python",
   "pygments_lexer": "ipython3",
   "version": "3.7.3"
  }
 },
 "nbformat": 4,
 "nbformat_minor": 2
}
